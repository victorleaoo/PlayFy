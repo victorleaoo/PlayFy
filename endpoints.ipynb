{
 "cells": [
  {
   "cell_type": "markdown",
   "id": "8e1f27cf",
   "metadata": {},
   "source": [
    "# Guide of Endpoints"
   ]
  },
  {
   "cell_type": "markdown",
   "id": "7d7b8496",
   "metadata": {},
   "source": [
    "## Endpoints used from the API"
   ]
  },
  {
   "cell_type": "markdown",
   "id": "b29caaa0",
   "metadata": {},
   "source": [
    "### Get Access Token\n",
    "\n",
    "Needed to use the other API Endpoints"
   ]
  },
  {
   "cell_type": "markdown",
   "id": "d5774ef7",
   "metadata": {},
   "source": [
    "```\n",
    "url = \"https://accounts.spotify.com/api/token\"\n",
    "    \n",
    "    headers = {\n",
    "        \"Content-Type\": \"application/x-www-form-urlencoded\"\n",
    "    }\n",
    "    \n",
    "    data = {\n",
    "        \"grant_type\": \"client_credentials\",\n",
    "        \"client_id\": CLIENT_ID,\n",
    "        \"client_secret\": CLIENT_SECRET\n",
    "    }\n",
    "```"
   ]
  },
  {
   "cell_type": "markdown",
   "id": "c9cca289",
   "metadata": {},
   "source": [
    "### Get Playlist Infos\n",
    "\n",
    "This is used to get the playlist:\n",
    "\n",
    "- Description\n",
    "- Image\n",
    "- Owner\n",
    "- Name"
   ]
  },
  {
   "cell_type": "markdown",
   "id": "3a17ff89",
   "metadata": {},
   "source": [
    "```\n",
    "url = \"https://api.spotify.com/v1/playlists/\" + playlist_id + \"?fields=description%2C+name%2C+images%28url%29%2C+owner%28display_name%29\"\n",
    "    \n",
    "    headers = {\n",
    "        \"Authorization\": \"Bearer \" + access_token\n",
    "    }\n",
    "\n",
    "    response = requests.get(url, headers=headers)\n",
    "```"
   ]
  },
  {
   "cell_type": "markdown",
   "id": "2226de3b",
   "metadata": {},
   "source": [
    "### Get Playlist Items\n",
    "\n",
    "This is used to get the playlist items:\n",
    "\n",
    "- Track\n",
    "    - name\n",
    "    - popularity\n",
    "    - duration\n",
    "    - artists\n",
    "    - album name\n",
    "    "
   ]
  },
  {
   "cell_type": "markdown",
   "id": "3c6f02c8",
   "metadata": {},
   "source": [
    "```\n",
    "if next == False:\n",
    "        url = \"https://api.spotify.com/v1/playlists/\" + playlist_id + \"/tracks?fields=total%2C+limit%2C+next%2C+offset%2C+items%28track%28name%2C+popularity%2C+artists%28genres%2C+name%29%2C+duration_ms%2C+album%28name%29%29%29&limit=100\"\n",
    "    else:\n",
    "        url = share_link\n",
    "\n",
    "    headers = {\n",
    "        \"Authorization\": \"Bearer \" + access_token\n",
    "    }\n",
    "\n",
    "    response = requests.get(url, headers=headers)\n",
    "```"
   ]
  },
  {
   "cell_type": "markdown",
   "id": "785a937b",
   "metadata": {},
   "source": [
    "## Endpoints Created"
   ]
  },
  {
   "cell_type": "markdown",
   "id": "3b42c363",
   "metadata": {},
   "source": [
    "### playlist_get_info\n",
    "\n",
    "Params:\n",
    "    - playlist_link\n",
    "    - access_token\n",
    "\n",
    "Return:\n",
    "    - playlist_stats "
   ]
  },
  {
   "cell_type": "markdown",
   "id": "049a403e",
   "metadata": {},
   "source": [
    "```\n",
    "@app.post(\"/playlist_get_info/\")\n",
    "async def create_item(playlist: PlaylistInfo):\n",
    "    playlist_stats = get_all_stats_together(playlist.playlist_link, playlist.access_token)\n",
    "\n",
    "    return JSONResponse(playlist_stats)\n",
    "```"
   ]
  }
 ],
 "metadata": {
  "kernelspec": {
   "display_name": "Python 3 (ipykernel)",
   "language": "python",
   "name": "python3"
  },
  "language_info": {
   "codemirror_mode": {
    "name": "ipython",
    "version": 3
   },
   "file_extension": ".py",
   "mimetype": "text/x-python",
   "name": "python",
   "nbconvert_exporter": "python",
   "pygments_lexer": "ipython3",
   "version": "3.10.12"
  }
 },
 "nbformat": 4,
 "nbformat_minor": 5
}
